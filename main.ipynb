{
  "nbformat": 4,
  "nbformat_minor": 0,
  "metadata": {
    "colab": {
      "private_outputs": true,
      "provenance": [],
      "authorship_tag": "ABX9TyMBmpkBZyqO+KRtxuSHUddM",
      "include_colab_link": true
    },
    "kernelspec": {
      "name": "python3",
      "display_name": "Python 3"
    },
    "language_info": {
      "name": "python"
    }
  },
  "cells": [
    {
      "cell_type": "markdown",
      "metadata": {
        "id": "view-in-github",
        "colab_type": "text"
      },
      "source": [
        "<a href=\"https://colab.research.google.com/github/vitormarquesds/Sentimental-Analysis/blob/main/main.ipynb\" target=\"_parent\"><img src=\"https://colab.research.google.com/assets/colab-badge.svg\" alt=\"Open In Colab\"/></a>"
      ]
    },
    {
      "cell_type": "code",
      "execution_count": null,
      "metadata": {
        "id": "XnjgK9-V55hk"
      },
      "outputs": [],
      "source": [
        "!pip install -q -U watermark\n",
        "!pip install wget"
      ]
    },
    {
      "cell_type": "code",
      "source": [
        "import numpy as np\n",
        "import gzip\n",
        "import pandas\n",
        "import wget\n",
        "from urllib.request import urlopen\n",
        "import json\n",
        "import os"
      ],
      "metadata": {
        "id": "IXlGM5eT6E3P"
      },
      "execution_count": null,
      "outputs": []
    },
    {
      "cell_type": "code",
      "source": [
        "from platform import python_version\n",
        "print('Jupyter Notebook Python Version:', python_version())"
      ],
      "metadata": {
        "id": "OhJCScyl6GbK"
      },
      "execution_count": null,
      "outputs": []
    },
    {
      "cell_type": "code",
      "source": [
        "%reload_ext watermark\n",
        "%watermark -a \"Vitor Marques\" --iversions"
      ],
      "metadata": {
        "id": "2ja4kxV66Sm5"
      },
      "execution_count": null,
      "outputs": []
    },
    {
      "cell_type": "code",
      "source": [
        "np.random.seed(1337)"
      ],
      "metadata": {
        "id": "T-uicXyR6T0Z"
      },
      "execution_count": null,
      "outputs": []
    },
    {
      "cell_type": "code",
      "source": [
        "!wget http://deepyeti.ucsd.edu/jianmo/amazon/sample/meta_Computers.json.gz"
      ],
      "metadata": {
        "id": "iqIBIALF6Xv4"
      },
      "execution_count": null,
      "outputs": []
    },
    {
      "cell_type": "code",
      "source": [],
      "metadata": {
        "id": "cYk7oGmM6ZP1"
      },
      "execution_count": null,
      "outputs": []
    }
  ]
}